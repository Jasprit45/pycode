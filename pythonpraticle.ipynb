{
 "cells": [
  {
   "cell_type": "code",
   "execution_count": 1,
   "id": "29436e70-ca2f-4cc1-bb2c-22ac7bf5df91",
   "metadata": {},
   "outputs": [
    {
     "name": "stdin",
     "output_type": "stream",
     "text": [
      "Enter the 1st number :  4\n",
      "Enter the 2st number :  5\n"
     ]
    },
    {
     "name": "stdout",
     "output_type": "stream",
     "text": [
      "The inputs are 4 and 5\n",
      "Sum = 9\n",
      "Difference = -1\n",
      "Product = 20\n",
      "Integer Quotient = 0\n",
      "Remainder = 4\n",
      "Fraction Quotient = 0.8\n"
     ]
    }
   ],
   "source": [
    "#28-08-24\n",
    "#practicle 1\n",
    "def operation(a,b):\n",
    "    print(f\"Sum = {a+b}\")\n",
    "    print(f\"Difference = {a-b}\")\n",
    "    print(f\"Product = {a*b}\")\n",
    "    print(f\"Integer Quotient = {a//b}\")\n",
    "    print(f\"Remainder = {a%b}\")\n",
    "    print(f\"Fraction Quotient = {a/b}\")\n",
    "\n",
    "a = int(input(\"Enter the 1st number : \"))\n",
    "b = int(input(\"Enter the 2st number : \"))\n",
    "print(f\"The inputs are {a} and {b}\")\n",
    "operation(a,b)\n",
    "    \n",
    "\n"
   ]
  },
  {
   "cell_type": "code",
   "execution_count": 2,
   "id": "8da81fa3-65c8-48ab-ac64-02dacb5dd5ac",
   "metadata": {},
   "outputs": [
    {
     "name": "stdin",
     "output_type": "stream",
     "text": [
      "Enter the 1st side of Traingle 3\n",
      "Enter the 2nd side of Traingle 4\n",
      "Enter the 3rd side of Traingle 5\n"
     ]
    },
    {
     "name": "stdout",
     "output_type": "stream",
     "text": [
      "Perimeter = 12.0\n",
      "Area = 6.0 \n",
      "Angle A = 36.86989764584401\n",
      "Angle B = 53.13010235415599\n",
      "Angle C = 90.0\n"
     ]
    }
   ],
   "source": [
    "#practicle2\n",
    "import math\n",
    "def triangle(a,b,c):\n",
    "    s=(a+b+c)/2\n",
    "    print(f\"Perimeter = {2*s}\")\n",
    "    area = s*(s-a)*(s-b)*(s-c)\n",
    "    print(f\"Area = {math.sqrt(area)} \")\n",
    "    A = (b*b + c*c - a*a)/(2*b*c)\n",
    "    B = (a*a + c*c - b*b)/(2*a*c)\n",
    "    C = (b*b + a*a - c*c)/(2*b*a)\n",
    "    print(f\"Angle A = {math.degrees(math.acos(A))}\")\n",
    "    print(f\"Angle B = {math.degrees(math.acos(B))}\")\n",
    "    print(f\"Angle C = {math.degrees(math.acos(C))}\")\n",
    "\n",
    "a = int(input(\"Enter the 1st side of Traingle\"))\n",
    "b = int(input(\"Enter the 2nd side of Traingle\"))\n",
    "c = int(input(\"Enter the 3rd side of Traingle\"))\n",
    "\n",
    "triangle(a,b,c)\n",
    "\n"
   ]
  },
  {
   "cell_type": "code",
   "execution_count": 3,
   "id": "7f666f3b-228b-471c-86c5-12bf561a4185",
   "metadata": {},
   "outputs": [
    {
     "name": "stdin",
     "output_type": "stream",
     "text": [
      "Enter the temperature in celcious :  36\n"
     ]
    },
    {
     "name": "stdout",
     "output_type": "stream",
     "text": [
      "Temperature in farenhite =96.8\n"
     ]
    }
   ],
   "source": [
    "#prcticle 3\n",
    "a= int(input(\"Enter the temperature in celcious : \"))\n",
    "f = a*1.8 +32\n",
    "print(f\"Temperature in farenhite ={f}\")"
   ]
  },
  {
   "cell_type": "code",
   "execution_count": 4,
   "id": "6db4c4c6-0bf1-405c-aaf8-ccc111a5cffb",
   "metadata": {},
   "outputs": [
    {
     "name": "stdout",
     "output_type": "stream",
     "text": [
      "(15, 5, 50)\n"
     ]
    }
   ],
   "source": [
    "def op(a,b):\n",
    "    return a+b, a-b,a*b\n",
    "\n",
    "a= 10\n",
    "b = 5\n",
    "\n",
    "print( op(a,b))\n"
   ]
  },
  {
   "cell_type": "code",
   "execution_count": 5,
   "id": "8c06b748-af48-4379-b35a-033a2574d52b",
   "metadata": {},
   "outputs": [
    {
     "ename": "SyntaxError",
     "evalue": "invalid syntax (1590506209.py, line 4)",
     "output_type": "error",
     "traceback": [
      "\u001b[1;36m  Cell \u001b[1;32mIn[5], line 4\u001b[1;36m\u001b[0m\n\u001b[1;33m    s1.swapcase()we\u001b[0m\n\u001b[1;37m                 ^\u001b[0m\n\u001b[1;31mSyntaxError\u001b[0m\u001b[1;31m:\u001b[0m invalid syntax\n"
     ]
    }
   ],
   "source": [
    "# practicle 4  04-09-24\n",
    "\n",
    "s1 = 'Maha Bharat'\n",
    "s1.swapcase()we\n"
   ]
  },
  {
   "cell_type": "code",
   "execution_count": null,
   "id": "388291a3-8047-47c0-8714-44a30001bddf",
   "metadata": {},
   "outputs": [],
   "source": [
    "s1[5:]"
   ]
  },
  {
   "cell_type": "code",
   "execution_count": 17,
   "id": "fb78b421-971b-434f-94ee-ddd038a21f91",
   "metadata": {},
   "outputs": [
    {
     "data": {
      "text/plain": [
       "'BharatBharatBharat'"
      ]
     },
     "execution_count": 17,
     "metadata": {},
     "output_type": "execute_result"
    }
   ],
   "source": [
    "s1[5:]*3"
   ]
  },
  {
   "cell_type": "code",
   "execution_count": 19,
   "id": "1aaf25f1-9ea5-438a-b3cd-05813bc42cbb",
   "metadata": {},
   "outputs": [
    {
     "data": {
      "text/plain": [
       "'Mera Bharat'"
      ]
     },
     "execution_count": 19,
     "metadata": {},
     "output_type": "execute_result"
    }
   ],
   "source": [
    "s2 = 'Mera ' \n",
    "s2+s1[5:]\n"
   ]
  },
  {
   "cell_type": "code",
   "execution_count": 20,
   "id": "57783dc9-9d4e-4c07-a4ea-ee4ca53c83fa",
   "metadata": {},
   "outputs": [
    {
     "data": {
      "text/plain": [
       "'Mera Bharat Mahan'"
      ]
     },
     "execution_count": 20,
     "metadata": {},
     "output_type": "execute_result"
    }
   ],
   "source": [
    "s3 = ' Mahan'\n",
    "s2+s1[5:]+s3"
   ]
  },
  {
   "cell_type": "markdown",
   "id": "ee6d3fc8-bc98-45ff-9baa-59337b2f39d4",
   "metadata": {},
   "source": [
    "# Practicle 5   4-09-24"
   ]
  },
  {
   "cell_type": "code",
   "execution_count": 27,
   "id": "ae994441-bdbb-47d8-8c7f-b8860c9b78c1",
   "metadata": {},
   "outputs": [
    {
     "data": {
      "text/plain": [
       "17"
      ]
     },
     "execution_count": 27,
     "metadata": {},
     "output_type": "execute_result"
    }
   ],
   "source": [
    "S = \"Ba Ba Black Sheep\"\n",
    "len(S)"
   ]
  },
  {
   "cell_type": "code",
   "execution_count": 30,
   "id": "5d79fc23-957f-4e6a-923f-47942854d748",
   "metadata": {},
   "outputs": [
    {
     "data": {
      "text/plain": [
       "14"
      ]
     },
     "execution_count": 30,
     "metadata": {},
     "output_type": "execute_result"
    }
   ],
   "source": [
    "S.find('e')"
   ]
  },
  {
   "cell_type": "code",
   "execution_count": 32,
   "id": "dbe2c4a4-0c04-4612-bae4-854b0748fc82",
   "metadata": {},
   "outputs": [
    {
     "data": {
      "text/plain": [
       "3"
      ]
     },
     "execution_count": 32,
     "metadata": {},
     "output_type": "execute_result"
    }
   ],
   "source": [
    "S.count('a')"
   ]
  },
  {
   "cell_type": "code",
   "execution_count": 43,
   "id": "4c93f24b-56da-47a4-a161-b9892a90719b",
   "metadata": {},
   "outputs": [
    {
     "data": {
      "text/plain": [
       "'Ta Ta Black Sheep'"
      ]
     },
     "execution_count": 43,
     "metadata": {},
     "output_type": "execute_result"
    }
   ],
   "source": [
    "S[:6].replace('B','T')+S[6:]\n"
   ]
  },
  {
   "cell_type": "markdown",
   "id": "2322c176-1044-4c53-934d-e537581a3da2",
   "metadata": {},
   "source": [
    "### Practicle 6  4-09-24"
   ]
  },
  {
   "cell_type": "code",
   "execution_count": 49,
   "id": "35cf7306-50f2-4bb2-80e6-a9fd86431219",
   "metadata": {},
   "outputs": [
    {
     "name": "stdin",
     "output_type": "stream",
     "text": [
      "Enter a String : werew\n"
     ]
    },
    {
     "name": "stdout",
     "output_type": "stream",
     "text": [
      "Yes, its a palindrome\n"
     ]
    }
   ],
   "source": [
    "s = input(\"Enter a String :\")\n",
    "def palindrome(s):\n",
    "    return(s==s[::-1])\n",
    "\n",
    "a = palindrome(s)\n",
    "if (a==True):\n",
    "     print(\"Yes, its a palindrome\")\n",
    "\n",
    "else:\n",
    "     print(\"Not a palindrome\")\n",
    "    \n",
    "\n",
    "\n"
   ]
  },
  {
   "cell_type": "code",
   "execution_count": 53,
   "id": "0816d2c9-e727-48bf-8b93-00af7ac9d30f",
   "metadata": {},
   "outputs": [
    {
     "name": "stdin",
     "output_type": "stream",
     "text": [
      "Enter the Name :  jassi\n",
      "Enter the Roll Number :  3020\n",
      "Enter the marks in Maths out of 100 85\n"
     ]
    },
    {
     "name": "stdout",
     "output_type": "stream",
     "text": [
      "Name : jassi\n",
      "Roll Number : 3020\n",
      "Marks : 85\n",
      "Grade Point : 9\n",
      "Remark : VERY GOOD\n"
     ]
    }
   ],
   "source": [
    "name = input(\"Enter the Name : \")\n",
    "Roll = int(input(\"Enter the Roll Number : \"))\n",
    "Marks = int(input('Enter the marks in Maths out of 100'))\n",
    "\n",
    "if(Marks >100):\n",
    "    print(\"Invalid Marks Entered\")\n",
    "    a=1\n",
    "elif(Marks>=90):\n",
    "    a=10\n",
    "    b = 'OUTSTANDING'\n",
    "elif(Marks>=80):\n",
    "    a=9\n",
    "    b ='VERY GOOD'\n",
    "elif(Marks>=70):\n",
    "    a=8\n",
    "    b ='GOOD'\n",
    "elif(Marks>=60):\n",
    "    a=7\n",
    "    b ='AVERAGE'\n",
    "elif(Marks>=50):\n",
    "    a=6\n",
    "    b ='PASS'\n",
    "else:\n",
    "    a=0\n",
    "    b ='FAIL'\n",
    "\n",
    "print(f\"Name : {name}\")\n",
    "print(f'Roll Number : {Roll}' )\n",
    "if(a!=1):\n",
    "    print(f'Marks : {Marks}')\n",
    "\n",
    "else:\n",
    "    print(\"INVALID MARKS\")\n",
    "\n",
    "if(a!=1):\n",
    "    print(f'Grade Point : {a}')\n",
    "    print(f'Remark : {b}')\n",
    "\n",
    "\n",
    "    \n",
    "    \n",
    "    "
   ]
  },
  {
   "cell_type": "code",
   "execution_count": 58,
   "id": "461a90be-396f-4fec-ba27-9af84917fd24",
   "metadata": {},
   "outputs": [
    {
     "name": "stdin",
     "output_type": "stream",
     "text": [
      "Enter the value of a :  1\n",
      "Enter the value of b :  5\n",
      "Enter the value of c :  6\n"
     ]
    },
    {
     "name": "stdout",
     "output_type": "stream",
     "text": [
      "1\n",
      "Roots : -2.0 , -3.0\n"
     ]
    }
   ],
   "source": [
    "a = int(input(\"Enter the value of a : \"))\n",
    "b = int(input(\"Enter the value of b : \"))\n",
    "c = int(input(\"Enter the value of c : \"))\n",
    "import math\n",
    "d = b*b - 4*a*c\n",
    "\n",
    "print(d)\n",
    "\n",
    "if (d==0):\n",
    "    print(f'Roots : {(-b/(2*a))} ,{(-b/(2*a))} ')\n",
    "\n",
    "elif(d>0):\n",
    "    print(f'Roots : {(-b)/(2*a) + (math.sqrt(d))/(2*a)} , {(-b)/(2*a) - (math.sqrt(d))/(2*a)}')\n",
    "else:\n",
    "    print(f'Roots Real Part :{-(b/(2*a))} \\n Roots Imaginary Part : {(math.sqrt(-d))/(2*a)} ')\n",
    "\n",
    "\n",
    "    \n",
    "\n",
    "    \n"
   ]
  },
  {
   "cell_type": "markdown",
   "id": "203cbd46-fbea-4f31-aca7-8b67e12f50a5",
   "metadata": {},
   "source": [
    "## lab 3 date 11-09-24"
   ]
  },
  {
   "cell_type": "code",
   "execution_count": 1,
   "id": "131da78a-bdec-4436-b9e3-fc3d8f1b2450",
   "metadata": {},
   "outputs": [
    {
     "name": "stdin",
     "output_type": "stream",
     "text": [
      "Enter the number :  6\n"
     ]
    },
    {
     "name": "stdout",
     "output_type": "stream",
     "text": [
      "1  :  1\n",
      "2  :  4\n",
      "3  :  9\n",
      "4  :  16\n",
      "5  :  25\n",
      "6  :  36\n"
     ]
    }
   ],
   "source": [
    "n = int(input('Enter the number : '))\n",
    "a = 0\n",
    "while(a<n):\n",
    "    a= a+1\n",
    "    print(f'{a}  :  {a*a}')\n",
    "\n"
   ]
  },
  {
   "cell_type": "code",
   "execution_count": 10,
   "id": "999d82a1-2a65-4cde-a0d9-c1baa81a3782",
   "metadata": {},
   "outputs": [
    {
     "name": "stdin",
     "output_type": "stream",
     "text": [
      "Enter the number :  456\n"
     ]
    },
    {
     "name": "stdout",
     "output_type": "stream",
     "text": [
      "Number is : 456 , Sum of digits is : 15\n"
     ]
    }
   ],
   "source": [
    "n = int(input('Enter the number : '))\n",
    "a=0\n",
    "b= n\n",
    "while(n>0):\n",
    "    a+= int(n%10)\n",
    "   \n",
    "    n = n//10\n",
    "    \n",
    "\n",
    "print(f'Number is : {b} , Sum of digits is : {a}')\n",
    "    "
   ]
  },
  {
   "cell_type": "code",
   "execution_count": 5,
   "id": "637b78b5-750f-43e9-bd27-57bb4c93b47a",
   "metadata": {},
   "outputs": [
    {
     "name": "stdin",
     "output_type": "stream",
     "text": [
      "Enter the number :  9\n"
     ]
    },
    {
     "name": "stdout",
     "output_type": "stream",
     "text": [
      "0 \n",
      "1\n",
      "1\n",
      "2\n",
      "3\n",
      "5\n",
      "8\n",
      "13\n",
      "21\n"
     ]
    }
   ],
   "source": [
    "n = int(input('Enter the number : '))\n",
    "def fibonacci(n,a,b):\n",
    "    print(f'{a} \\n{b}')\n",
    "    c = 0\n",
    "    while(n-2>0):\n",
    "        c = a+b\n",
    "        print(f'{c}')\n",
    "        a = b\n",
    "        b = c\n",
    "        n = n-1\n",
    "\n",
    "fibonacci(n,0,1)\n",
    "        \n",
    "        \n",
    "        \n",
    "    "
   ]
  },
  {
   "cell_type": "code",
   "execution_count": 8,
   "id": "6437c550-57cd-48cc-9080-0f522c32af79",
   "metadata": {},
   "outputs": [
    {
     "name": "stdin",
     "output_type": "stream",
     "text": [
      "Enter; the number :  8\n",
      "Enter the limit :  9\n"
     ]
    },
    {
     "name": "stdout",
     "output_type": "stream",
     "text": [
      "8 X 1 = 8 \n",
      "8 X 2 = 16 \n",
      "8 X 3 = 24 \n",
      "8 X 4 = 32 \n",
      "8 X 5 = 40 \n",
      "8 X 6 = 48 \n",
      "8 X 7 = 56 \n",
      "8 X 8 = 64 \n",
      "8 X 9 = 72 \n"
     ]
    }
   ],
   "source": [
    "a = int(input('Enter; the number : '))\n",
    "n = int(input('Enter the limit : '))\n",
    "b = 1\n",
    "for i in range(0,n):\n",
    "    print(f'{a} X {b} = {a*b} ')\n",
    "    b =b+1\n",
    "    \n",
    "    "
   ]
  },
  {
   "cell_type": "code",
   "execution_count": 13,
   "id": "93f72f69-6879-43c5-a265-4a9d45c8e609",
   "metadata": {},
   "outputs": [
    {
     "name": "stdin",
     "output_type": "stream",
     "text": [
      "Enter the string :  rtdesg\n"
     ]
    },
    {
     "name": "stdout",
     "output_type": "stream",
     "text": [
      "True\n"
     ]
    }
   ],
   "source": [
    "s = input('Enter the string : ')\n",
    "a=0\n",
    "for i in s:\n",
    "    if (ord(i) >=48 & ord(i)<=57 |ord(i) >=65 & ord(i)<=90 | ord(i) >=97 &ord(i)<=122):\n",
    "        a = a+1\n",
    "\n",
    "if (a ==len(s)):\n",
    "    print(\"True\")\n",
    "\n",
    "else:\n",
    "    print(\"False\")\n",
    "\n"
   ]
  },
  {
   "cell_type": "code",
   "execution_count": 16,
   "id": "659c42a9-29ee-4244-a983-c382baa5de0f",
   "metadata": {},
   "outputs": [
    {
     "name": "stdin",
     "output_type": "stream",
     "text": [
      "Enter the string :  jassi\n",
      "Enter the character s\n"
     ]
    },
    {
     "name": "stdout",
     "output_type": "stream",
     "text": [
      "s present in string 2 times\n"
     ]
    }
   ],
   "source": [
    "s = input(\"Enter the string : \")\n",
    "c= input(\"Enter the character\")\n",
    "a = 0\n",
    "for  i in s:\n",
    "    if (c == i):\n",
    "        a = a+1\n",
    "\n",
    "print(f'{c} present in string {a} times')\n",
    "    "
   ]
  },
  {
   "cell_type": "code",
   "execution_count": null,
   "id": "bdfe32af-0c39-4216-b9c7-d53ff0b48831",
   "metadata": {},
   "outputs": [],
   "source": []
  }
 ],
 "metadata": {
  "kernelspec": {
   "display_name": "Python 3 (ipykernel)",
   "language": "python",
   "name": "python3"
  },
  "language_info": {
   "codemirror_mode": {
    "name": "ipython",
    "version": 3
   },
   "file_extension": ".py",
   "mimetype": "text/x-python",
   "name": "python",
   "nbconvert_exporter": "python",
   "pygments_lexer": "ipython3",
   "version": "3.12.4"
  }
 },
 "nbformat": 4,
 "nbformat_minor": 5
}
